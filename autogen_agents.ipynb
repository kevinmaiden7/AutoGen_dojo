{
 "cells": [
  {
   "cell_type": "code",
   "execution_count": 1,
   "metadata": {},
   "outputs": [
    {
     "name": "stderr",
     "output_type": "stream",
     "text": [
      "flaml.automl is not available. Please install flaml[automl] to enable AutoML functionalities.\n"
     ]
    }
   ],
   "source": [
    "import autogen\n",
    "import pandas as pd\n",
    "from time import time\n",
    "from datetime import datetime\n",
    "import json"
   ]
  },
  {
   "cell_type": "code",
   "execution_count": 2,
   "metadata": {},
   "outputs": [
    {
     "data": {
      "text/plain": [
       "[{'model': 'tinyllama:1.1b-chat-v1-q2_K',\n",
       "  'base_url': 'http://127.0.0.1:11434/v1',\n",
       "  'api_key': 'ollama',\n",
       "  'price': [0, 0]}]"
      ]
     },
     "execution_count": 2,
     "metadata": {},
     "output_type": "execute_result"
    }
   ],
   "source": [
    "config_list_questions = autogen.config_list_from_json(\"model_config_questions.json\")\n",
    "config_list_questions"
   ]
  },
  {
   "cell_type": "code",
   "execution_count": 3,
   "metadata": {},
   "outputs": [
    {
     "data": {
      "text/plain": [
       "[{'model': 'tinyllama:chat',\n",
       "  'base_url': 'http://127.0.0.1:11434/v1',\n",
       "  'api_key': 'ollama',\n",
       "  'price': [0, 0]}]"
      ]
     },
     "execution_count": 3,
     "metadata": {},
     "output_type": "execute_result"
    }
   ],
   "source": [
    "config_list_answers = autogen.config_list_from_json(\"model_config_answers.json\")\n",
    "config_list_answers"
   ]
  },
  {
   "cell_type": "code",
   "execution_count": 4,
   "metadata": {},
   "outputs": [
    {
     "data": {
      "text/plain": [
       "<autogen.agentchat.assistant_agent.AssistantAgent at 0x1fa61757bc0>"
      ]
     },
     "execution_count": 4,
     "metadata": {},
     "output_type": "execute_result"
    }
   ],
   "source": [
    "agent_questions = autogen.AssistantAgent(\n",
    "    name = \"Agent Questions\",\n",
    "    system_message=\"Your task is to ask a question about computer science.\",\n",
    "    llm_config = {\"config_list\": config_list_questions},\n",
    "    code_execution_config = False,\n",
    "    human_input_mode = \"NEVER\",\n",
    "    function_map = None\n",
    ")\n",
    "agent_questions"
   ]
  },
  {
   "cell_type": "code",
   "execution_count": 5,
   "metadata": {},
   "outputs": [
    {
     "data": {
      "text/plain": [
       "<autogen.agentchat.user_proxy_agent.UserProxyAgent at 0x1fa610d6570>"
      ]
     },
     "execution_count": 5,
     "metadata": {},
     "output_type": "execute_result"
    }
   ],
   "source": [
    "agent_answers = autogen.UserProxyAgent(\n",
    "    name = \"Agent Answers\",\n",
    "    system_message=\"Your task is to answer a question about computer science and ask for another question.\",\n",
    "    llm_config = {\"config_list\": config_list_answers},\n",
    "    code_execution_config = False,\n",
    "    human_input_mode = \"NEVER\",\n",
    "    function_map = None\n",
    ")\n",
    "agent_answers"
   ]
  },
  {
   "cell_type": "code",
   "execution_count": 6,
   "metadata": {},
   "outputs": [
    {
     "name": "stdout",
     "output_type": "stream",
     "text": [
      "\u001b[33mAgent Questions\u001b[0m (to Agent Answers):\n",
      "\n",
      "What is recursion in computer science?\n",
      "\n",
      "--------------------------------------------------------------------------------\n",
      "\u001b[33mAgent Answers\u001b[0m (to Agent Questions):\n",
      "\n",
      "Recursion is a type of computation that involves invoking itself recursively. In other words, it's a way to apply the same operation or function to smaller and smaller subsets of its input data until some condition is reached that triggers an error or an infinite loop. Recursion is used in many different programming languages and algorithms in computer science to manage a sequence or reduce complexity.\n",
      "\n",
      "Here's how recursion works when you're coding:\n",
      "\n",
      "Suppose we have a function named `add_numbers` that takes two numbers as input and adds them together. It can be written like this:\n",
      "\n",
      "```python\n",
      "def add_numbers(x, y):\n",
      "    \"\"\"Add x and y using recursion\"\"\"\n",
      "    \n",
      "    if not isinstance(x, int) or not isinstance(y, int) \\\n",
      "    or not (0 <= x < 10 and 0 <= y < 10):\n",
      "        print(\"Input values must be integers between 1 and 10.\")\n",
      "        return None\n",
      "    \n",
      "    if x == y:\n",
      "        return x + y\n",
      "    \n",
      "    else:\n",
      "        return add_numbers(x + 1, y)\n",
      "```\n",
      "\n",
      "In this function, we define a helper `add` method that performs the addition of two numbers recursively. We then define the function call as `add_numbers`, but when we call it:\n",
      "\n",
      "- Firstly, we give some value for `x` and `y`. Since its type is `int` there's no error. So, based on this input data, recursion starts by calling `add_numbers(x + 1, y)` recursively.\n",
      "- If the calculation succeed (i.e., add_numbers() returns a non-None value), we calculate `(x + 1) + y` and return it as output using the helper method \"add\".\n",
      "- Otherwise, we get an error that recursion is possible only with positive inputs, and return None to signal that this calculation didn't work.\n",
      "\n",
      "When you write recursive functions for specific problems in your code or research, you'll come across a lot of similar functions written in different programming languages that use recursion like above.\n",
      "\n",
      "--------------------------------------------------------------------------------\n",
      "\u001b[33mAgent Questions\u001b[0m (to Agent Answers):\n",
      "\n",
      "Variables in Python and other data types are immutable; that is, they cannot be assigned to the same data type as their own value. This ensures that the program or script's variables stay the same throughout the project's execution, allowing for easier testing and debugging, and enhanced performance (no data drift over time issues).\n",
      "By using a function for each subprocess, we don't need to modify our code and keep the order of calls in sight. Functions are called sequentially with an \"arrow\". \n",
      "Using Python and recursion is a powerful method of processing smaller and smaller subsets based on its input data until it can yield an error, and the whole script/program terminates when an error occurs. It enables to solve problems that have recursive structures and to save complex data structures.\n",
      "Recursion makes up for simpler and quicker writing code as there's a more direct pathway to accomplish the same task - less redundant steps. As our computational process involves recursion, some applications like math, computer science, and coding also depend on recursion.\n",
      "This way of writing code is a fundamental part of software programming in Python using higher-order functions, which enables us to \"pass\" a function call as an argument in other function definitions, which makes our lives easier. We can then use this data as arguments throughout the script or program, and perform computations on it without having to re-run all lines of code. Python also allows for nested functions, and function call syntax allows for more flexible and less repetitive coding.\n",
      "Overall, recursion's benefits include: fewer errors during debugging because you only need one copy of the same code; code organization is easy when recursion is possible to find patterns in your program structure because there are no nested loops or loops that can endlessly recur into other functions. It can be a crucial part of software development, especially when coding with programming languages such as Python or Julia.\n",
      "\n",
      "--------------------------------------------------------------------------------\n",
      "\u001b[33mAgent Answers\u001b[0m (to Agent Questions):\n",
      "\n",
      "Overall, the benefits of using recursion in Python and certain types of programming languages are numerous. By using recursion to simplify and streamline processes related to data structures, subprocesses, or higher-order functions, they can make software development easier, more flexible, and efficient. Recursion allows for more direct and less redundant steps, improving code quality, simplifying computations, and saving time in testing and debugging. As Python programs have more direct paths, reduced runtime errors, and shorter execution times. Compared to loops or loops that can lead to incorrect computations due to logical errors or program bugs.\n",
      "\n",
      "--------------------------------------------------------------------------------\n",
      "\u001b[33mAgent Questions\u001b[0m (to Agent Answers):\n",
      "\n",
      "There are several functions and patterns that follow conventions for Python recursion patterns, such as:\n",
      "\n",
      "- Sentinel function returns an immediate value and a \"return self\" statement at the beginning: This is used in code that wants to tell the reader/user of the program to return its final product rather than having additional input/output.\n",
      "- Synchronous function call with await syntax for Python synchronization: This allows blocking communication with external services by running the code asynchronously and waiting until finished without blocking the script/program execution.\n",
      "\n",
      "Recursive programming language in Python, like recursion and function calls, enable developers to write shorter, more flexible, and quicker code. This method of programming involves recursive calls, which are essentially functions that recurse from one state to another. It's then used extensively when programming with such programming languages as Python and Julia. Recursive functions, subprocesses, or higher-order functions are often the first step in a series of steps.\n",
      "\n",
      "Recursion is used to reduce coding issues like duplicate code, while increasing code organization during software development using certain programming languaiges. Functions are created by performing recursive actions, which means they can keep track of their own state. This simplifies coding logic and speeds up software development and testing with Python-based programming languages, with recursion having a direct pathway to perform subprocesses.\n",
      "\n",
      "Moreover, Recursion's benefits include reducing errors during recursion with its logical error checking system, and the time it saves when using Python and other higher-order functions in coding. This pattern also follows conventions for code consistency and optimizing programming through recursive function development for the same code snippet. There are different ways to define these recursive functions that use Python and other programming languages to simplify coding:\n",
      "\n",
      "--------------------------------------------------------------------------------\n",
      "\u001b[33mAgent Answers\u001b[0m (to Agent Questions):\n",
      "\n",
      "Yes, there are several patterns and conventions that developers follow when using recursion in Python and other higher-order functions. Here are some examples:\n",
      "\n",
      "1. Sentimental function returns an immediate return value: This pattern is used when the final output for a program needs to be passed to other functions or code blocks without making additional input/output. It allows developers to avoid introducing unnecessary variables and maintains program readability. For example, we could define a function \"sum_values\" that takes a list of integers in Python and returns its sum using recursion:\n",
      "\n",
      "```python\n",
      "def sum_values(list):\n",
      "    result = []\n",
      "    for I in range(len(list)):\n",
      "        if len(result) == 0 or list[i] > result[-1] + list[i+1][-1]: # find highest value as last element\n",
      "            result.insert(-1, list[i])\n",
      "    return sum(result)\n",
      "```\n",
      "\n",
      "In this function, the \"sum_values\"() method takes a list of integers as input and returns its sum using recursion. The function stores all the values in the `result` list starting from index 0 until there is a higher value. Then it creates a new list with the calculated sum by accessing indexes -1 and adding that to `result[-1]` (the last element), which represents the current highest value. At the end of recursion, we insert all the elements back into our input list in the proper order (`result` is an array of integers). This pattern is useful before returning or sending data to other code blocks without introducing additional variables and maintaining clarity.\n",
      "\n",
      "2. Synchonous function call with `await` syntax in asynchronous programming: This pattern is used when we want to add a block of code that waits for an external service to finish executing before continuing further. In Python, the `await` keyword enables synchronization between multiple processes and makes parallel execution possible. Python provides several functions such as `threading` or `asyncio`, which can be used in this pattern.\n",
      "\n",
      "```pytornyawait\n",
      "import asyncio\n",
      "\n",
      "async def async_function(callable):  # define the callback function\n",
      "    await callable()  # call the callback function\n",
      "    # handle any asynchronous operations that might have been performed by the callback in here\n",
      "```\n",
      "\n",
      "Here, async means \"asynchronous\" and \"await\" is an acronym for \"awaiting\". The `async_function()` is a keyword for defining a callback to be called after completing some actions or doing some job in another process. Whenever the asyncronous operation completed successfully, it will go through this function.\n",
      "\n",
      "Here's another example of how Python can be used with the `await` syntax, using an event loop in conjunction with an HTTP request/response:\n",
      "\n",
      "```pytornyawait\n",
      "import requests\n",
      "from threading import Thread\n",
      "\n",
      "# connect to server and retrieve data\n",
      "async def api_request(url):\n",
      "    async with requests.get(url) as response:\n",
      "        return await response.json()\n",
      "\n",
      "# send HTTP request and get response\n",
      "def send_request():\n",
      "    response = await requests.post(url, headers=headers)\n",
      "    if response.status_code == 200:\n",
      "        data = response.text\n",
      "        return data\n",
      "    \n",
      "# create a thread to handle response sending in background concurrently\n",
      "def handle_response():\n",
      "    thread = Thread(target=send_request, name=\"api-request\")\n",
      "    thread.start()\n",
      "    \n",
      "# start the loop\n",
      "if __name__ == '__main__':\n",
      "    mainloop.run()\n",
      "```\n",
      "\n",
      "In this code, when we call `send_request()`, a new async call to the HTTP get request is initiated in a different thread (in another process), along with a thread named \"api-request\" by using the global \"mainloop\" function. This way, asynchronous calls can be handled concurrently without causing any blocking issues.\n",
      "\n",
      "--------------------------------------------------------------------------------\n"
     ]
    }
   ],
   "source": [
    "chat_results = agent_questions.initiate_chat(agent_answers, message=\"What is recursion in computer science?\", max_turns=3)"
   ]
  },
  {
   "cell_type": "markdown",
   "metadata": {},
   "source": [
    "---"
   ]
  },
  {
   "cell_type": "markdown",
   "metadata": {},
   "source": [
    "#### Save Results"
   ]
  },
  {
   "cell_type": "code",
   "execution_count": 7,
   "metadata": {},
   "outputs": [
    {
     "data": {
      "text/plain": [
       "'2024-11-07_12-58-22'"
      ]
     },
     "execution_count": 7,
     "metadata": {},
     "output_type": "execute_result"
    }
   ],
   "source": [
    "timestamp = datetime.fromtimestamp(time()).strftime(\"%Y-%m-%d_%H-%M-%S\")\n",
    "timestamp"
   ]
  },
  {
   "cell_type": "code",
   "execution_count": 8,
   "metadata": {},
   "outputs": [
    {
     "data": {
      "text/html": [
       "<div>\n",
       "<style scoped>\n",
       "    .dataframe tbody tr th:only-of-type {\n",
       "        vertical-align: middle;\n",
       "    }\n",
       "\n",
       "    .dataframe tbody tr th {\n",
       "        vertical-align: top;\n",
       "    }\n",
       "\n",
       "    .dataframe thead th {\n",
       "        text-align: right;\n",
       "    }\n",
       "</style>\n",
       "<table border=\"1\" class=\"dataframe\">\n",
       "  <thead>\n",
       "    <tr style=\"text-align: right;\">\n",
       "      <th></th>\n",
       "      <th>content</th>\n",
       "      <th>role</th>\n",
       "      <th>name</th>\n",
       "    </tr>\n",
       "  </thead>\n",
       "  <tbody>\n",
       "    <tr>\n",
       "      <th>0</th>\n",
       "      <td>What is recursion in computer science?</td>\n",
       "      <td>assistant</td>\n",
       "      <td>Agent Questions</td>\n",
       "    </tr>\n",
       "    <tr>\n",
       "      <th>1</th>\n",
       "      <td>Recursion is a type of computation that involv...</td>\n",
       "      <td>user</td>\n",
       "      <td>Agent Answers</td>\n",
       "    </tr>\n",
       "    <tr>\n",
       "      <th>2</th>\n",
       "      <td>Variables in Python and other data types are i...</td>\n",
       "      <td>assistant</td>\n",
       "      <td>Agent Questions</td>\n",
       "    </tr>\n",
       "    <tr>\n",
       "      <th>3</th>\n",
       "      <td>Overall, the benefits of using recursion in Py...</td>\n",
       "      <td>user</td>\n",
       "      <td>Agent Answers</td>\n",
       "    </tr>\n",
       "    <tr>\n",
       "      <th>4</th>\n",
       "      <td>There are several functions and patterns that ...</td>\n",
       "      <td>assistant</td>\n",
       "      <td>Agent Questions</td>\n",
       "    </tr>\n",
       "    <tr>\n",
       "      <th>5</th>\n",
       "      <td>Yes, there are several patterns and convention...</td>\n",
       "      <td>user</td>\n",
       "      <td>Agent Answers</td>\n",
       "    </tr>\n",
       "  </tbody>\n",
       "</table>\n",
       "</div>"
      ],
      "text/plain": [
       "                                             content       role  \\\n",
       "0             What is recursion in computer science?  assistant   \n",
       "1  Recursion is a type of computation that involv...       user   \n",
       "2  Variables in Python and other data types are i...  assistant   \n",
       "3  Overall, the benefits of using recursion in Py...       user   \n",
       "4  There are several functions and patterns that ...  assistant   \n",
       "5  Yes, there are several patterns and convention...       user   \n",
       "\n",
       "              name  \n",
       "0  Agent Questions  \n",
       "1    Agent Answers  \n",
       "2  Agent Questions  \n",
       "3    Agent Answers  \n",
       "4  Agent Questions  \n",
       "5    Agent Answers  "
      ]
     },
     "execution_count": 8,
     "metadata": {},
     "output_type": "execute_result"
    }
   ],
   "source": [
    "df_chat_history = pd.DataFrame.from_records(chat_results.chat_history)\n",
    "df_chat_history"
   ]
  },
  {
   "cell_type": "code",
   "execution_count": 9,
   "metadata": {},
   "outputs": [],
   "source": [
    "df_chat_history.to_excel(f\"chat_results/chat_history_{timestamp}.xlsx\", index=False)"
   ]
  },
  {
   "cell_type": "code",
   "execution_count": 10,
   "metadata": {},
   "outputs": [],
   "source": [
    "with open(f\"chat_results/chat_cost_{timestamp}.json\", \"w\") as json_file:\n",
    "    json.dump(chat_results.cost, json_file)"
   ]
  },
  {
   "cell_type": "code",
   "execution_count": null,
   "metadata": {},
   "outputs": [],
   "source": []
  }
 ],
 "metadata": {
  "kernelspec": {
   "display_name": "autogen_env",
   "language": "python",
   "name": "python3"
  },
  "language_info": {
   "codemirror_mode": {
    "name": "ipython",
    "version": 3
   },
   "file_extension": ".py",
   "mimetype": "text/x-python",
   "name": "python",
   "nbconvert_exporter": "python",
   "pygments_lexer": "ipython3",
   "version": "3.12.7"
  }
 },
 "nbformat": 4,
 "nbformat_minor": 2
}
