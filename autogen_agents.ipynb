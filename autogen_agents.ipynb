{
 "cells": [
  {
   "cell_type": "code",
   "execution_count": 1,
   "metadata": {},
   "outputs": [
    {
     "name": "stderr",
     "output_type": "stream",
     "text": [
      "flaml.automl is not available. Please install flaml[automl] to enable AutoML functionalities.\n"
     ]
    }
   ],
   "source": [
    "import autogen\n",
    "import pandas as pd\n",
    "from time import time\n",
    "from datetime import datetime\n",
    "import json"
   ]
  },
  {
   "cell_type": "code",
   "execution_count": 2,
   "metadata": {},
   "outputs": [
    {
     "data": {
      "text/plain": [
       "[{'model': 'tinyllama:1.1b-chat-v1-q2_K',\n",
       "  'base_url': 'http://127.0.0.1:11434/v1',\n",
       "  'api_key': 'ollama',\n",
       "  'price': [0, 0],\n",
       "  'max_tokens': 1000}]"
      ]
     },
     "execution_count": 2,
     "metadata": {},
     "output_type": "execute_result"
    }
   ],
   "source": [
    "config_list_questions = autogen.config_list_from_json(\"model_config_questions.json\")\n",
    "config_list_questions"
   ]
  },
  {
   "cell_type": "code",
   "execution_count": 3,
   "metadata": {},
   "outputs": [
    {
     "data": {
      "text/plain": [
       "[{'model': 'tinyllama:chat',\n",
       "  'base_url': 'http://127.0.0.1:11434/v1',\n",
       "  'api_key': 'ollama',\n",
       "  'price': [0, 0],\n",
       "  'max_tokens': 1000}]"
      ]
     },
     "execution_count": 3,
     "metadata": {},
     "output_type": "execute_result"
    }
   ],
   "source": [
    "config_list_answers = autogen.config_list_from_json(\"model_config_answers.json\")\n",
    "config_list_answers"
   ]
  },
  {
   "cell_type": "code",
   "execution_count": 4,
   "metadata": {},
   "outputs": [
    {
     "data": {
      "text/plain": [
       "<autogen.agentchat.assistant_agent.AssistantAgent at 0x23175206120>"
      ]
     },
     "execution_count": 4,
     "metadata": {},
     "output_type": "execute_result"
    }
   ],
   "source": [
    "agent_questions = autogen.AssistantAgent(\n",
    "    name = \"Agent Questions\",\n",
    "    system_message=\"Your task is to ask a question about computer science.\",\n",
    "    llm_config = {\"config_list\": config_list_questions},\n",
    "    code_execution_config = False,\n",
    "    human_input_mode = \"NEVER\",\n",
    "    function_map = None\n",
    ")\n",
    "agent_questions"
   ]
  },
  {
   "cell_type": "code",
   "execution_count": 5,
   "metadata": {},
   "outputs": [
    {
     "data": {
      "text/plain": [
       "<autogen.agentchat.user_proxy_agent.UserProxyAgent at 0x23175207a10>"
      ]
     },
     "execution_count": 5,
     "metadata": {},
     "output_type": "execute_result"
    }
   ],
   "source": [
    "agent_answers = autogen.UserProxyAgent(\n",
    "    name = \"Agent Answers\",\n",
    "    system_message=\"Your task is to answer a question about computer science and ask for another question.\",\n",
    "    llm_config = {\"config_list\": config_list_answers},\n",
    "    code_execution_config = False,\n",
    "    human_input_mode = \"NEVER\",\n",
    "    function_map = None\n",
    ")\n",
    "agent_answers"
   ]
  },
  {
   "cell_type": "code",
   "execution_count": 6,
   "metadata": {},
   "outputs": [
    {
     "name": "stdout",
     "output_type": "stream",
     "text": [
      "\u001b[33mAgent Questions\u001b[0m (to Agent Answers):\n",
      "\n",
      "What is a linked-list in computer science?\n",
      "\n",
      "--------------------------------------------------------------------------------\n",
      "\u001b[33mAgent Answers\u001b[0m (to Agent Questions):\n",
      "\n",
      "In computer science, a linked-list (also known as an adjacency list or neighbor list) is a data structure that holds a collection of data nodes, with each node being associated to one or more adjacent pairs of nodes with the same key. The key is used to identify unique subgroups of nodes in a linked list, referred to as sub-subtrees or neighbor lists, which are created after each node has been added to the list. \n",
      "\n",
      "A linked-list can be thought of as a nested tree structure where nodes are connected by links to their neighbors, with each node having one or more predecessors and successors, which represent the neighbors who preceded it in its subtree. In other words, a linked-list represents an adjacency matrix in linear algebra.\n",
      "\n",
      "In computer science, linked-lists are often used as data containers for storing small, sparse collections of data, such as memory addresses or process control information.\n",
      "\n",
      "--------------------------------------------------------------------------------\n",
      "\u001b[33mAgent Questions\u001b[0m (to Agent Answers):\n",
      "\n",
      "Sure! A linked-list is a collection structure that allows for the storage and manipulation of groups of nodes, one node at a time. This technique ensures that each linked-list entry retains its position within it's neighbor list, which allows for immediate access to information without any additional sorting necessary elsewhere.\n",
      "\n",
      "--------------------------------------------------------------------------------\n",
      "\u001b[33mAgent Answers\u001b[0m (to Agent Questions):\n",
      "\n",
      "I did not understand the last part in your previous sentence about immediately accessing information. Can you please elaborate more on how linked-lists allow immediate retrieval of information? And maybe share an example of how this technique is used in real-life applications in computer science. Cheers!\n",
      "\n",
      "--------------------------------------------------------------------------------\n",
      "\u001b[33mAgent Questions\u001b[0m (to Agent Answers):\n",
      "\n",
      "Certainly! Linked-lists are a type of data structure that enable fast retrieval of information by only seeing the subset of nodes in their neighbors' subtrees, thus giving them an order relationship based on keyed links rather than a standard vectoring ordering. This property enables us to create nested data structures without storing or manipulating additional arrays or vectors, reducing memory consumption and overhead time-wise for certain applications in computer science.\n",
      "\n",
      "One example of how linked-lists are used today is for managing and controlling interleaved programs in computing machines. These interleaved programming instructions require specialized hardware to run because each program needs a physical memory location assigned to it. With linked-list data structures, programs can store and retrieve these program segments as an adjacecnary list.\n",
      "\n",
      "To clarify this last sentence for better understanding, here is an example of how linked-lists are used in the context of a computer system with limited resources: A desktop computer might have several megabytes of internal memory to hold executable files without further optimizing. However, by storing binary data as ordered lists within each file (such as .c or .py), these binaries can be stored on their own physical memory locations, called interleaves, inside a large, dedicated region of the hard drive. Here's how this concept applies in code:\n",
      "\n",
      "Here is an example of how to set up a program named \"myprogram\" with its input files and output file, including linking itself back into its dependencies within the \"script.py\" program and its interleaves. This allows for a seamless navigation between the two, as all other linked-lists in the Python program rely on each other's orders through various nested function calls throughout the codebase:\n",
      "\n",
      "```python\n",
      "def main():\n",
      "    my_list = ['line1', 'lin2']   # data to store interleaves\n",
      "    with open('script.py') as script_file:  \n",
      "        script_content = script_file.read()   # input from file or user\n",
      "    \n",
      "    with open('myprogram.txt')  # output to location (e.g. .csv) defined in the `main` function/script context\n",
      "```\n",
      "\n",
      "I hope that gave you a better picture as to how linked-lists are actually implemented in memory and computer systems, such as on small computers like desktops! Cheers!\n",
      "\n",
      "--------------------------------------------------------------------------------\n",
      "\u001b[33mAgent Answers\u001b[0m (to Agent Questions):\n",
      "\n",
      "Thank you for clarifying that for me. I hope this helps to better understand the concept of linked-lists in more depth! Let me know if you have any other questions.\n",
      "\n",
      "--------------------------------------------------------------------------------\n"
     ]
    }
   ],
   "source": [
    "chat_results = agent_questions.initiate_chat(agent_answers, message=\"What is a linked-list in computer science?\", max_turns=3)"
   ]
  },
  {
   "cell_type": "markdown",
   "metadata": {},
   "source": [
    "---"
   ]
  },
  {
   "cell_type": "markdown",
   "metadata": {},
   "source": [
    "#### Save Results"
   ]
  },
  {
   "cell_type": "code",
   "execution_count": 7,
   "metadata": {},
   "outputs": [
    {
     "data": {
      "text/plain": [
       "'2024-11-07_13-37-57'"
      ]
     },
     "execution_count": 7,
     "metadata": {},
     "output_type": "execute_result"
    }
   ],
   "source": [
    "timestamp = datetime.fromtimestamp(time()).strftime(\"%Y-%m-%d_%H-%M-%S\")\n",
    "timestamp"
   ]
  },
  {
   "cell_type": "code",
   "execution_count": 8,
   "metadata": {},
   "outputs": [
    {
     "data": {
      "text/html": [
       "<div>\n",
       "<style scoped>\n",
       "    .dataframe tbody tr th:only-of-type {\n",
       "        vertical-align: middle;\n",
       "    }\n",
       "\n",
       "    .dataframe tbody tr th {\n",
       "        vertical-align: top;\n",
       "    }\n",
       "\n",
       "    .dataframe thead th {\n",
       "        text-align: right;\n",
       "    }\n",
       "</style>\n",
       "<table border=\"1\" class=\"dataframe\">\n",
       "  <thead>\n",
       "    <tr style=\"text-align: right;\">\n",
       "      <th></th>\n",
       "      <th>content</th>\n",
       "      <th>role</th>\n",
       "      <th>name</th>\n",
       "    </tr>\n",
       "  </thead>\n",
       "  <tbody>\n",
       "    <tr>\n",
       "      <th>0</th>\n",
       "      <td>What is a linked-list in computer science?</td>\n",
       "      <td>assistant</td>\n",
       "      <td>Agent Questions</td>\n",
       "    </tr>\n",
       "    <tr>\n",
       "      <th>1</th>\n",
       "      <td>In computer science, a linked-list (also known...</td>\n",
       "      <td>user</td>\n",
       "      <td>Agent Answers</td>\n",
       "    </tr>\n",
       "    <tr>\n",
       "      <th>2</th>\n",
       "      <td>Sure! A linked-list is a collection structure ...</td>\n",
       "      <td>assistant</td>\n",
       "      <td>Agent Questions</td>\n",
       "    </tr>\n",
       "    <tr>\n",
       "      <th>3</th>\n",
       "      <td>I did not understand the last part in your pre...</td>\n",
       "      <td>user</td>\n",
       "      <td>Agent Answers</td>\n",
       "    </tr>\n",
       "    <tr>\n",
       "      <th>4</th>\n",
       "      <td>Certainly! Linked-lists are a type of data str...</td>\n",
       "      <td>assistant</td>\n",
       "      <td>Agent Questions</td>\n",
       "    </tr>\n",
       "    <tr>\n",
       "      <th>5</th>\n",
       "      <td>Thank you for clarifying that for me. I hope t...</td>\n",
       "      <td>user</td>\n",
       "      <td>Agent Answers</td>\n",
       "    </tr>\n",
       "  </tbody>\n",
       "</table>\n",
       "</div>"
      ],
      "text/plain": [
       "                                             content       role  \\\n",
       "0         What is a linked-list in computer science?  assistant   \n",
       "1  In computer science, a linked-list (also known...       user   \n",
       "2  Sure! A linked-list is a collection structure ...  assistant   \n",
       "3  I did not understand the last part in your pre...       user   \n",
       "4  Certainly! Linked-lists are a type of data str...  assistant   \n",
       "5  Thank you for clarifying that for me. I hope t...       user   \n",
       "\n",
       "              name  \n",
       "0  Agent Questions  \n",
       "1    Agent Answers  \n",
       "2  Agent Questions  \n",
       "3    Agent Answers  \n",
       "4  Agent Questions  \n",
       "5    Agent Answers  "
      ]
     },
     "execution_count": 8,
     "metadata": {},
     "output_type": "execute_result"
    }
   ],
   "source": [
    "df_chat_history = pd.DataFrame.from_records(chat_results.chat_history)\n",
    "df_chat_history"
   ]
  },
  {
   "cell_type": "code",
   "execution_count": 9,
   "metadata": {},
   "outputs": [],
   "source": [
    "df_chat_history.to_excel(f\"chat_results/chat_history_{timestamp}.xlsx\", index=False)"
   ]
  },
  {
   "cell_type": "code",
   "execution_count": 10,
   "metadata": {},
   "outputs": [],
   "source": [
    "with open(f\"chat_results/chat_cost_{timestamp}.json\", \"w\") as json_file:\n",
    "    json.dump(chat_results.cost, json_file)"
   ]
  },
  {
   "cell_type": "code",
   "execution_count": null,
   "metadata": {},
   "outputs": [],
   "source": []
  }
 ],
 "metadata": {
  "kernelspec": {
   "display_name": "autogen_env",
   "language": "python",
   "name": "python3"
  },
  "language_info": {
   "codemirror_mode": {
    "name": "ipython",
    "version": 3
   },
   "file_extension": ".py",
   "mimetype": "text/x-python",
   "name": "python",
   "nbconvert_exporter": "python",
   "pygments_lexer": "ipython3",
   "version": "3.12.7"
  }
 },
 "nbformat": 4,
 "nbformat_minor": 2
}
